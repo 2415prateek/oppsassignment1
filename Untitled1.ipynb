{
 "cells": [
  {
   "cell_type": "markdown",
   "id": "86243aab-1206-40e6-96a5-a5f4d7a61614",
   "metadata": {},
   "source": [
    "Ans-1"
   ]
  },
  {
   "cell_type": "code",
   "execution_count": 1,
   "id": "b087dadf-19d4-45cd-8101-9a011e0d3d1e",
   "metadata": {},
   "outputs": [],
   "source": [
    "class vehicle():\n",
    "    def __init__(self,name_of_vechical,max_speed,average_of_vehicle):\n",
    "        self.name_of_vechical = name_of_vechical\n",
    "        self.max_speed = max_speed\n",
    "        self.average_of_vehicle = average_of_vehicle\n",
    "    def details_of_vechical(self):\n",
    "        return self.name_of_vechical,self.max_speed,self.average_of_vehicle"
   ]
  },
  {
   "cell_type": "code",
   "execution_count": 2,
   "id": "04b2a7d1-9c6b-43c7-81d5-a117fdaebcb6",
   "metadata": {},
   "outputs": [],
   "source": [
    "car = vehicle(\"innova\",180,20)"
   ]
  },
  {
   "cell_type": "code",
   "execution_count": 3,
   "id": "e45493d8-5678-455b-86b3-50548414d545",
   "metadata": {},
   "outputs": [
    {
     "data": {
      "text/plain": [
       "('innova', 180, 20)"
      ]
     },
     "execution_count": 3,
     "metadata": {},
     "output_type": "execute_result"
    }
   ],
   "source": [
    "car.details_of_vechical()"
   ]
  },
  {
   "cell_type": "markdown",
   "id": "ca0995b0-f530-4956-af7f-2862d80e3520",
   "metadata": {},
   "source": [
    "Ans-2"
   ]
  },
  {
   "cell_type": "markdown",
   "id": "e17c9030-5981-4afd-809c-59f3826d541e",
   "metadata": {},
   "source": [
    "class child_class(vehicle):\n",
    "    def seating_capicity(self,capicity):\n",
    "        return f\"{self.name_of_vechical} has a seating capicity of {capicity}\""
   ]
  },
  {
   "cell_type": "code",
   "execution_count": 5,
   "id": "44a14b3a-3f81-4d4d-a9d6-48f2a7ff4046",
   "metadata": {},
   "outputs": [],
   "source": [
    "car2= child_class(\"innova\",180,20)"
   ]
  },
  {
   "cell_type": "code",
   "execution_count": 6,
   "id": "80a3e743-4784-43ad-9d34-25e831529e5c",
   "metadata": {},
   "outputs": [
    {
     "data": {
      "text/plain": [
       "'innova has a seating capicity of 7'"
      ]
     },
     "execution_count": 6,
     "metadata": {},
     "output_type": "execute_result"
    }
   ],
   "source": [
    "car2.seating_capicity(7)"
   ]
  },
  {
   "cell_type": "markdown",
   "id": "5fcb2101-402c-4640-b273-f85bf982c3de",
   "metadata": {},
   "source": [
    "ans-3"
   ]
  },
  {
   "cell_type": "markdown",
   "id": "2abd8154-6c49-4227-a0d2-846761eb3778",
   "metadata": {},
   "source": [
    "A multiple inheritance is a feature in opps in which a class can inherits attributes and methods from more than one parent class"
   ]
  },
  {
   "cell_type": "code",
   "execution_count": 9,
   "id": "6925d07b-71ca-47ad-8236-9f9087048127",
   "metadata": {},
   "outputs": [
    {
     "data": {
      "text/plain": [
       "'Engine Start \\n Electric motor Start'"
      ]
     },
     "execution_count": 9,
     "metadata": {},
     "output_type": "execute_result"
    }
   ],
   "source": [
    "# for example\n",
    "class engine:\n",
    "    def start(self):\n",
    "        return \"Engine Start\"\n",
    "\n",
    "class electricmootor:\n",
    "    def start(self):\n",
    "        return \"Electric motor Start\"\n",
    "class hybird(engine,electricmootor):\n",
    "    def start_car(self):\n",
    "        engine_start_message = self.start()\n",
    "        motor_start_message  = electricmootor.start(self)\n",
    "        return f\"{engine_start_message} \\n {motor_start_message}\"\n",
    "    \n",
    "hybird_car = hybird()\n",
    "hybird_car.start_car()"
   ]
  },
  {
   "cell_type": "markdown",
   "id": "6a847ce1-daca-4b9b-96a9-d5d3dcaf9cb3",
   "metadata": {},
   "source": [
    "ans-4"
   ]
  },
  {
   "cell_type": "markdown",
   "id": "9d01c0ea-fa61-47f7-a150-77b1f6728175",
   "metadata": {},
   "source": [
    "getter and setter methods are used to access  and modify the attribute of class.\n",
    "getter-used to retrive the value of attributes\n",
    "setter -used to set or modify the value of attributes"
   ]
  },
  {
   "cell_type": "code",
   "execution_count": 25,
   "id": "ccbfa8ce-fdd9-44ac-b441-75bc7ea57b6b",
   "metadata": {},
   "outputs": [],
   "source": [
    "class student:\n",
    "    def __init__(self,name,age):\n",
    "        self._name = name\n",
    "        self._age  = age\n",
    "    def get_name(self):\n",
    "        return self._name\n",
    "    def get_age(self):\n",
    "        return self._age\n",
    "    #setter method for name attribute\n",
    "    def set_name(self,name):\n",
    "        self._name = name\n",
    "    def set_age(self,age):\n",
    "        self._age = age"
   ]
  },
  {
   "cell_type": "code",
   "execution_count": 26,
   "id": "92c7f86b-8a9b-4353-84f4-d9c87948d2c8",
   "metadata": {},
   "outputs": [],
   "source": [
    "student1 = student(\"Prateek\",23)"
   ]
  },
  {
   "cell_type": "code",
   "execution_count": 27,
   "id": "51f32010-5a8f-499a-832e-c62162b1e46c",
   "metadata": {},
   "outputs": [
    {
     "name": "stdout",
     "output_type": "stream",
     "text": [
      "Name: Prateek\n",
      "Age: 23\n"
     ]
    }
   ],
   "source": [
    "print(\"Name:\",student1.get_name())\n",
    "print(\"Age:\",student1.get_age())"
   ]
  },
  {
   "cell_type": "code",
   "execution_count": 28,
   "id": "db9cd1c1-f7b6-4118-bf37-0383c12a17ff",
   "metadata": {},
   "outputs": [],
   "source": [
    "student1.set_name(\"Aryan\")\n",
    "student1.set_age(19)"
   ]
  },
  {
   "cell_type": "code",
   "execution_count": 29,
   "id": "44dae00d-1bfb-4bde-80c6-09b92c18bcb1",
   "metadata": {},
   "outputs": [
    {
     "name": "stdout",
     "output_type": "stream",
     "text": [
      "Updated Name : Aryan\n",
      "Updated Age : 19\n"
     ]
    }
   ],
   "source": [
    "print(\"Updated Name :\",student1.get_name())\n",
    "print(\"Updated Age :\",student1.get_age())"
   ]
  },
  {
   "cell_type": "markdown",
   "id": "0d3d7bf7-e8f1-4f1b-9d92-2a095cf260fc",
   "metadata": {},
   "source": [
    "ans-5"
   ]
  },
  {
   "cell_type": "markdown",
   "id": "ef233f1b-ff38-499c-b4f2-09280a869bbc",
   "metadata": {},
   "source": [
    "Method overriding in python occurs when a subclass provides a specific implementation for a method that is already defined in the super class"
   ]
  },
  {
   "cell_type": "code",
   "execution_count": 30,
   "id": "3f7d496b-3afe-4d36-96fe-57d993ace257",
   "metadata": {},
   "outputs": [],
   "source": [
    "class Animal:\n",
    "    def speak(self):\n",
    "        return \"Animal Speak\"\n",
    "class Dog(Animal):\n",
    "    def speak(self):\n",
    "        return \"Dog Bark\"\n",
    "class cat(Animal):\n",
    "    def speak(self):\n",
    "        return \" Cat meows\"\n",
    "    \n",
    "animal = Animal()\n",
    "dog= Dog()\n",
    "cat = cat()"
   ]
  },
  {
   "cell_type": "code",
   "execution_count": 31,
   "id": "bed543a6-4247-4505-887c-9add93609fb9",
   "metadata": {},
   "outputs": [
    {
     "name": "stdout",
     "output_type": "stream",
     "text": [
      "Animal Speak\n",
      "Dog Bark\n",
      " Cat meows\n"
     ]
    }
   ],
   "source": [
    "print(animal.speak())\n",
    "print(dog.speak())\n",
    "print(cat.speak())"
   ]
  },
  {
   "cell_type": "code",
   "execution_count": null,
   "id": "1d830448-59e7-442c-9220-ddc71938b0de",
   "metadata": {},
   "outputs": [],
   "source": []
  }
 ],
 "metadata": {
  "kernelspec": {
   "display_name": "Python 3 (ipykernel)",
   "language": "python",
   "name": "python3"
  },
  "language_info": {
   "codemirror_mode": {
    "name": "ipython",
    "version": 3
   },
   "file_extension": ".py",
   "mimetype": "text/x-python",
   "name": "python",
   "nbconvert_exporter": "python",
   "pygments_lexer": "ipython3",
   "version": "3.10.8"
  }
 },
 "nbformat": 4,
 "nbformat_minor": 5
}
